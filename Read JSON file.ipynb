{
 "cells": [
  {
   "cell_type": "code",
   "execution_count": 0,
   "metadata": {
    "application/vnd.databricks.v1+cell": {
     "cellMetadata": {
      "byteLimit": 2048000,
      "rowLimit": 10000
     },
     "inputWidgets": {},
     "nuid": "5dbb7508-0272-44a6-b498-76996e0c0a4c",
     "showTitle": false,
     "tableResultSettingsMap": {},
     "title": ""
    }
   },
   "outputs": [],
   "source": [
    "spark.read.format('json')\\\n",
    "          .option(\"inferSchema\",\"true\")\\\n",
    "          .option(\"mode\",\"PERMISSIVE\")\\\n",
    "          .load('/Volumes/main/default/vol1/line_delimited_json.json').show()"
   ]
  },
  {
   "cell_type": "code",
   "execution_count": 0,
   "metadata": {
    "application/vnd.databricks.v1+cell": {
     "cellMetadata": {
      "byteLimit": 2048000,
      "rowLimit": 10000
     },
     "inputWidgets": {},
     "nuid": "9ea6fa67-2879-4653-adde-f7fd6780379c",
     "showTitle": false,
     "tableResultSettingsMap": {},
     "title": ""
    }
   },
   "outputs": [],
   "source": [
    "spark.read.format('json')\\\n",
    "          .option(\"inferSchema\",\"true\")\\\n",
    "          .option(\"mode\",\"PERMISSIVE\")\\\n",
    "          .load('/Volumes/main/default/vol1/single_file_json.json').show()"
   ]
  },
  {
   "cell_type": "code",
   "execution_count": 0,
   "metadata": {
    "application/vnd.databricks.v1+cell": {
     "cellMetadata": {
      "byteLimit": 2048000,
      "rowLimit": 10000
     },
     "inputWidgets": {},
     "nuid": "9fe7c6d1-5217-455a-9307-e17244428515",
     "showTitle": false,
     "tableResultSettingsMap": {},
     "title": ""
    }
   },
   "outputs": [],
   "source": [
    "spark.read.format('json')\\\n",
    "          .option(\"inferSchema\",\"true\")\\\n",
    "          .option(\"mode\",\"PERMISSIVE\")\\\n",
    "          .option(\"multiLine\",\"true\")\\\n",
    "          .load('/Volumes/main/default/vol1/Multi_line_correct.json').show()"
   ]
  },
  {
   "cell_type": "code",
   "execution_count": 0,
   "metadata": {
    "application/vnd.databricks.v1+cell": {
     "cellMetadata": {
      "byteLimit": 2048000,
      "rowLimit": 10000
     },
     "inputWidgets": {},
     "nuid": "50aa85f0-501d-441d-be26-5237c36db38b",
     "showTitle": false,
     "tableResultSettingsMap": {},
     "title": ""
    }
   },
   "outputs": [],
   "source": [
    "spark.read.format('json')\\\n",
    "          .option(\"inferSchema\",\"true\")\\\n",
    "          .option(\"mode\",\"PERMISSIVE\")\\\n",
    "          .option(\"multiLine\",\"true\")\\\n",
    "          .load('/Volumes/main/default/vol1/Multi_line_incorrect.json').show()"
   ]
  },
  {
   "cell_type": "code",
   "execution_count": 0,
   "metadata": {
    "application/vnd.databricks.v1+cell": {
     "cellMetadata": {
      "byteLimit": 2048000,
      "rowLimit": 10000
     },
     "inputWidgets": {},
     "nuid": "5fd2e412-1204-495d-8791-6dd52da1d9d5",
     "showTitle": false,
     "tableResultSettingsMap": {},
     "title": ""
    }
   },
   "outputs": [],
   "source": [
    "from pyspark.sql.types import StructType,StructField,StringType,IntegerType\n",
    "\n",
    "schema=StructType([StructField(\"name\",StringType(),True),\n",
    "                   StructField(\"age\",IntegerType(),True),\n",
    "                   StructField(\"Salary\",IntegerType(),True),\n",
    "                   StructField(\"_corrupt_record\",StringType(),True)\n",
    "                   ])\n",
    "\n",
    "\n",
    "df=spark.read.format('json')\\\n",
    "          .option(\"inferSchema\",\"true\")\\\n",
    "          .schema(schema)\\\n",
    "          .option(\"mode\",\"PERMISSIVE\")\\\n",
    "          .load('/Volumes/main/default/vol1/corrupted_json.json').show(truncate=False)"
   ]
  },
  {
   "cell_type": "code",
   "execution_count": 0,
   "metadata": {
    "application/vnd.databricks.v1+cell": {
     "cellMetadata": {
      "byteLimit": 2048000,
      "rowLimit": 10000
     },
     "inputWidgets": {},
     "nuid": "2d3f39a2-8c07-4be0-9b2b-b6bd4e4e5c4c",
     "showTitle": false,
     "tableResultSettingsMap": {},
     "title": ""
    }
   },
   "outputs": [],
   "source": [
    "spark.read.format('json')\\\n",
    "          .option(\"inferSchema\",\"true\")\\\n",
    "          .option(\"mode\",\"PERMISSIVE\")\\\n",
    "          .load('/Volumes/main/default/vol1/corrupted_json.json').show()"
   ]
  }
 ],
 "metadata": {
  "application/vnd.databricks.v1+notebook": {
   "computePreferences": null,
   "dashboards": [],
   "environmentMetadata": {
    "base_environment": "",
    "environment_version": "2"
   },
   "inputWidgetPreferences": null,
   "language": "python",
   "notebookMetadata": {
    "pythonIndentUnit": 4
   },
   "notebookName": "Read JSON file",
   "widgets": {}
  },
  "language_info": {
   "name": "python"
  }
 },
 "nbformat": 4,
 "nbformat_minor": 0
}
